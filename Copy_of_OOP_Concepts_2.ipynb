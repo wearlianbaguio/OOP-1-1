{
  "nbformat": 4,
  "nbformat_minor": 0,
  "metadata": {
    "colab": {
      "name": "Copy of OOP Concepts 2.ipynb",
      "provenance": [],
      "authorship_tag": "ABX9TyP3/bOd8a/WdONh+petOI13",
      "include_colab_link": true
    },
    "kernelspec": {
      "name": "python3",
      "display_name": "Python 3"
    },
    "language_info": {
      "name": "python"
    }
  },
  "cells": [
    {
      "cell_type": "markdown",
      "metadata": {
        "id": "view-in-github",
        "colab_type": "text"
      },
      "source": [
        "<a href=\"https://colab.research.google.com/github/wearlianbaguio/OOP-1-1/blob/main/Copy_of_OOP_Concepts_2.ipynb\" target=\"_parent\"><img src=\"https://colab.research.google.com/assets/colab-badge.svg\" alt=\"Open In Colab\"/></a>"
      ]
    },
    {
      "cell_type": "code",
      "execution_count": null,
      "metadata": {
        "colab": {
          "base_uri": "https://localhost:8080/"
        },
        "id": "d_qqjEqpPx9m",
        "outputId": "942fa712-c289-4e34-9c12-e20e237dc8f0"
      },
      "outputs": [
        {
          "output_type": "stream",
          "name": "stdout",
          "text": [
            "Griffon Vulture flies above clouds\n",
            "Common Crane flies above clouds\n",
            "Emu is the national bird of the Philippines\n"
          ]
        }
      ],
      "source": [
        "class Birds:\n",
        "  def __init__(self,bird_name):\n",
        "    self.bird_name=bird_name\n",
        "  def flying_birds(self):\n",
        "    print(f\"{self.bird_name} flies above clouds\")\n",
        "  def non_flying_birds(self):\n",
        "    print(f\"{self.bird_name} is the national bird of the Philippines\")\n",
        "\n",
        "vulture = Birds(\"Griffon Vulture\")\n",
        "crane = Birds(\"Common Crane\")\n",
        "emu = Birds(\"Emu\")\n",
        "\n",
        "\n",
        "vulture.flying_birds()\n",
        "crane.flying_birds()\n",
        "emu.non_flying_birds()"
      ]
    },
    {
      "cell_type": "markdown",
      "source": [
        "###Encapsulation"
      ],
      "metadata": {
        "id": "H34TvsxDP8OF"
      }
    },
    {
      "cell_type": "code",
      "source": [
        "class foo:\n",
        "  def __init__(self,a,b):\n",
        "   self.a=a\n",
        "   self.b=b\n",
        "\n",
        "  def add(self):\n",
        "   return self.a+self.b\n",
        "\n",
        "object_foo=foo(3,4)\n",
        "object_foo.add()"
      ],
      "metadata": {
        "colab": {
          "base_uri": "https://localhost:8080/"
        },
        "id": "RtbahZIjP4C2",
        "outputId": "ffe24568-e82f-4cb3-e865-4bb5ad4b3a1e"
      },
      "execution_count": null,
      "outputs": [
        {
          "output_type": "execute_result",
          "data": {
            "text/plain": [
              "7"
            ]
          },
          "metadata": {},
          "execution_count": 3
        }
      ]
    },
    {
      "cell_type": "code",
      "source": [
        "class foo:\n",
        "  def __init__(self,a,b):\n",
        "   self.a=a\n",
        "   self.b=b\n",
        "\n",
        "  def add(self):\n",
        "   return self.a+self.b\n",
        "\n",
        "object_foo=foo(3,4)\n",
        "object_foo.add()\n",
        "\n",
        "object_foo._a=6\n",
        "object_foo.add()"
      ],
      "metadata": {
        "colab": {
          "base_uri": "https://localhost:8080/"
        },
        "id": "UHhOjRS5QYh0",
        "outputId": "cb49c652-339c-4d6d-8ae6-36b1e291a5df"
      },
      "execution_count": null,
      "outputs": [
        {
          "output_type": "execute_result",
          "data": {
            "text/plain": [
              "7"
            ]
          },
          "metadata": {},
          "execution_count": 4
        }
      ]
    },
    {
      "cell_type": "code",
      "source": [
        "class foo:\n",
        "  def __init__(self,a,b):\n",
        "   self.a=a\n",
        "   self.b=b\n",
        "\n",
        "  def add(self):\n",
        "   return self.a+self.b\n",
        "\n",
        "object_foo=foo(3,4)\n",
        "object_foo.add()\n",
        "\n",
        "#object_foo._a=6\n",
        "object_foo.add()"
      ],
      "metadata": {
        "colab": {
          "base_uri": "https://localhost:8080/"
        },
        "id": "h2KaEfTVQwKU",
        "outputId": "ec97bb9d-2c26-4a37-ed7c-016192c4b9eb"
      },
      "execution_count": null,
      "outputs": [
        {
          "output_type": "execute_result",
          "data": {
            "text/plain": [
              "7"
            ]
          },
          "metadata": {},
          "execution_count": 5
        }
      ]
    },
    {
      "cell_type": "code",
      "source": [
        "class foo:\n",
        "  def __init__(self,a,b):\n",
        "   self.a=a\n",
        "   self.b=b\n",
        "\n",
        "  def add(self):\n",
        "   return self.a+self.b\n",
        "\n",
        "object_foo=foo(3,4)\n",
        "object_foo.add()\n",
        "\n",
        "object_foo._a=6\n",
        "object_foo._b=7\n",
        "object_foo.add()"
      ],
      "metadata": {
        "colab": {
          "base_uri": "https://localhost:8080/"
        },
        "id": "Ze6PIXXkQ34V",
        "outputId": "d2131b0c-ea3a-4a9a-ae64-840f90640382"
      },
      "execution_count": null,
      "outputs": [
        {
          "output_type": "execute_result",
          "data": {
            "text/plain": [
              "7"
            ]
          },
          "metadata": {},
          "execution_count": 6
        }
      ]
    },
    {
      "cell_type": "code",
      "source": [
        "class Counter:\n",
        "    def __init__(self):\n",
        "        self.current = 0\n",
        "\n",
        "    def increment(self):\n",
        "        self.current += 1\n",
        "\n",
        "    def value(self):\n",
        "        return self.current\n",
        "\n",
        "    def reset(self):\n",
        "        self.current = 0\n"
      ],
      "metadata": {
        "id": "J-6bKzSiR58J"
      },
      "execution_count": null,
      "outputs": []
    },
    {
      "cell_type": "code",
      "source": [
        "counter = Counter()\n",
        "\n",
        "\n",
        "counter.increment()\n",
        "counter.increment()\n",
        "counter.increment()\n",
        "\n",
        "print(counter.value())\n"
      ],
      "metadata": {
        "colab": {
          "base_uri": "https://localhost:8080/"
        },
        "id": "A0coQbwYSGW6",
        "outputId": "9aa8bb43-eb08-4b4a-9945-2983306ef5e8"
      },
      "execution_count": null,
      "outputs": [
        {
          "output_type": "stream",
          "name": "stdout",
          "text": [
            "3\n"
          ]
        }
      ]
    },
    {
      "cell_type": "code",
      "source": [
        "class Counter:\n",
        " def __init__(self):\n",
        "  self.current=0\n",
        " def increment(self):\n",
        "  self.current+=1\n",
        " def value(self):\n",
        "  return self.current\n",
        " def reset(self):\n",
        "  self.current=0\n",
        "\n",
        "number = Counter()\n",
        "number.increment()\n",
        "number.increment()\n",
        "number.increment()\n",
        "\n",
        "print(number.value())"
      ],
      "metadata": {
        "colab": {
          "base_uri": "https://localhost:8080/"
        },
        "id": "4L_Lq5CMSilo",
        "outputId": "4cb34600-9643-4bee-e1d0-4fbc797dc70b"
      },
      "execution_count": null,
      "outputs": [
        {
          "output_type": "stream",
          "name": "stdout",
          "text": [
            "3\n"
          ]
        }
      ]
    },
    {
      "cell_type": "markdown",
      "source": [
        "###Adding encapsulation"
      ],
      "metadata": {
        "id": "e-bPEq62T0Hn"
      }
    },
    {
      "cell_type": "code",
      "source": [
        "class Counter:\n",
        " def __init__(self):\n",
        "  self.__current=0\n",
        " def increment(self):\n",
        "  self.__current+=1\n",
        " def value(self):\n",
        "  return self.__current\n",
        " def reset(self):\n",
        "  self.__current=0\n",
        "\n",
        "number = Counter()\n",
        "number.increment()\n",
        "number.increment()\n",
        "number.increment()\n",
        "number.__current=1\n",
        "\n",
        "print(number.value())"
      ],
      "metadata": {
        "colab": {
          "base_uri": "https://localhost:8080/"
        },
        "id": "XEvFM82iTbXA",
        "outputId": "d21a1b70-3757-438f-b321-f9384be0c9d2"
      },
      "execution_count": null,
      "outputs": [
        {
          "output_type": "stream",
          "name": "stdout",
          "text": [
            "3\n"
          ]
        }
      ]
    },
    {
      "cell_type": "code",
      "source": [
        "class Counter:\n",
        " def __init__(self):\n",
        "  self.__current=0\n",
        " def increment(self):\n",
        "  self.__current+=1\n",
        " def value(self):\n",
        "  return self.__current\n",
        " def reset(self):\n",
        "  self.__current=0\n",
        "\n",
        "number = Counter()\n",
        "#number.increment()\n",
        "#number.increment()\n",
        "#number.increment()\n",
        "number.__current=1\n",
        "\n",
        "print(number.value())"
      ],
      "metadata": {
        "colab": {
          "base_uri": "https://localhost:8080/"
        },
        "id": "Lxnbjj2lUhSt",
        "outputId": "fd2703d5-60f6-43f6-bddf-9f459057dd5b"
      },
      "execution_count": null,
      "outputs": [
        {
          "output_type": "stream",
          "name": "stdout",
          "text": [
            "0\n"
          ]
        }
      ]
    },
    {
      "cell_type": "code",
      "source": [
        "class Counter:\n",
        "  def __init__(self):\n",
        "    self.__current = 0\n",
        "  def increment(self):\n",
        "    self.__current+=1\n",
        "  def value(self):\n",
        "    return self.__current\n",
        "  def reset(self):\n",
        "    self.__current = 0\n",
        "\n",
        "number = Counter()\n",
        "number.__current = 1\n",
        "\n",
        "number.increment()\n",
        "number.increment()\n",
        "number.increment()\n",
        "\n",
        "\n",
        "print(number.value())\n"
      ],
      "metadata": {
        "colab": {
          "base_uri": "https://localhost:8080/"
        },
        "id": "nVu9e7hSUqrk",
        "outputId": "02503bb0-5daa-4fa5-ae18-d7a66a6f2ca6"
      },
      "execution_count": null,
      "outputs": [
        {
          "output_type": "stream",
          "name": "stdout",
          "text": [
            "3\n"
          ]
        }
      ]
    },
    {
      "cell_type": "markdown",
      "source": [
        "###Inheritance"
      ],
      "metadata": {
        "id": "uWfc30fsU7Vo"
      }
    },
    {
      "cell_type": "code",
      "source": [
        "class Person:\n",
        "  def __init__(self,firstname,surname,):\n",
        "    self.firstname=firstname\n",
        "    self.surname=surname\n",
        "\n",
        "  def fullname(self):\n",
        "    print(self.firstname,self.surname)\n",
        "  \n",
        "person=Person(\"Wearl Ian\", \"Baguio\")\n",
        "person.fullname()"
      ],
      "metadata": {
        "colab": {
          "base_uri": "https://localhost:8080/"
        },
        "id": "4doZCkMfU9Rk",
        "outputId": "0cf9ec1d-2f05-410e-c722-7ff9886f649b"
      },
      "execution_count": null,
      "outputs": [
        {
          "output_type": "stream",
          "name": "stdout",
          "text": [
            "Wearl Ian Baguio\n"
          ]
        }
      ]
    },
    {
      "cell_type": "code",
      "source": [
        "class Person:\n",
        "  def __init__(self,firstname,surname,):\n",
        "    self.firstname=firstname\n",
        "    self.surname=surname\n",
        "\n",
        "  def fullname(self):\n",
        "    print(self.firstname,self.surname)\n",
        "  \n",
        "person=Person(\"Wearl Ian\", \"Baguio\")\n",
        "person.fullname()\n",
        "\n",
        "class Teacher(Person):\n",
        "  pass\n",
        "\n",
        "person2=Teacher(\"Mam\", \"Sayo\")\n",
        "person2.fullname()"
      ],
      "metadata": {
        "colab": {
          "base_uri": "https://localhost:8080/"
        },
        "id": "Pkfuvt6sWQGB",
        "outputId": "8d06ab78-c925-47e5-9bfe-50703f9e4020"
      },
      "execution_count": null,
      "outputs": [
        {
          "output_type": "stream",
          "name": "stdout",
          "text": [
            "Wearl Ian Baguio\n",
            "Mam Sayo\n"
          ]
        }
      ]
    },
    {
      "cell_type": "code",
      "source": [
        "class Person:\n",
        "  def __init__(self,firstname,surname,):\n",
        "    self.firstname=firstname\n",
        "    self.surname=surname\n",
        "\n",
        "  def fullname(self):\n",
        "    print(self.firstname,self.surname)\n",
        "  \n",
        "person=Person(\"Wearl Ian\", \"Baguio\")\n",
        "person.fullname()\n",
        "\n",
        "class Teacher(Person):\n",
        "  pass\n",
        "\n",
        "person2=Teacher(\"Mam\", \"Sayo\")\n",
        "person2.fullname()\n",
        "\n",
        "class Student(Person):\n",
        "  pass\n",
        "\n",
        "person3=Student(\"Aaron\", \"Aguilar\")\n",
        "person3.fullname()"
      ],
      "metadata": {
        "colab": {
          "base_uri": "https://localhost:8080/"
        },
        "id": "p5sMWf6AWv0B",
        "outputId": "0c2f34f9-b3f4-451d-c6d6-39d31184e919"
      },
      "execution_count": null,
      "outputs": [
        {
          "output_type": "stream",
          "name": "stdout",
          "text": [
            "Wearl Ian Baguio\n",
            "Mam Sayo\n",
            "Aaron Aguilar\n"
          ]
        }
      ]
    },
    {
      "cell_type": "markdown",
      "source": [
        "###Polymorphism"
      ],
      "metadata": {
        "id": "nGOTamdaXd75"
      }
    },
    {
      "cell_type": "code",
      "source": [
        "class RegularPolygon:\n",
        "  def __init__(self,side):\n",
        "    self.side=side\n",
        "class Square(RegularPolygon):\n",
        "  def area(self):\n",
        "    return self.side * self.side\n",
        "class EquilateralTriangle(RegularPolygon):\n",
        "  def area(self):\n",
        "    return self.side * self.side * 0.433\n",
        "\n",
        "obj1=Square(4)\n",
        "print(obj1.area())\n",
        "\n",
        "obj2=EquilateralTriangle(3)\n",
        "print(obj2.area())"
      ],
      "metadata": {
        "colab": {
          "base_uri": "https://localhost:8080/"
        },
        "id": "Ajkx2e_1XflL",
        "outputId": "e545411d-a576-4f58-a9f6-7da160d4e1c4"
      },
      "execution_count": null,
      "outputs": [
        {
          "output_type": "stream",
          "name": "stdout",
          "text": [
            "16\n",
            "3.897\n"
          ]
        }
      ]
    },
    {
      "cell_type": "markdown",
      "source": [
        "###Application 1\n",
        "1. Create a Python program that displays the name of the students (Student 1, Student 2, Student 3) and their term grades\n",
        "2. Create a class name Person and attributes - std1, std2, std3, pre, mid, fin\n",
        "3. Compute the average of each term grade using Grade() method\n",
        "4. Information about student's grades must be hidden from others "
      ],
      "metadata": {
        "id": "R8TSYG6fY15O"
      }
    },
    {
      "cell_type": "code",
      "source": [
        ""
      ],
      "metadata": {
        "id": "Bp6c-bJTY8-V"
      },
      "execution_count": null,
      "outputs": []
    }
  ]
}