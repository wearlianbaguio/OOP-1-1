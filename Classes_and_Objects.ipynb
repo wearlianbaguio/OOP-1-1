{
  "nbformat": 4,
  "nbformat_minor": 0,
  "metadata": {
    "colab": {
      "name": "Classes and Objects.ipynb",
      "provenance": [],
      "authorship_tag": "ABX9TyPYa3fWem9a6IzOG6MoSZLQ",
      "include_colab_link": true
    },
    "kernelspec": {
      "name": "python3",
      "display_name": "Python 3"
    },
    "language_info": {
      "name": "python"
    }
  },
  "cells": [
    {
      "cell_type": "markdown",
      "metadata": {
        "id": "view-in-github",
        "colab_type": "text"
      },
      "source": [
        "<a href=\"https://colab.research.google.com/github/wearlianbaguio/OOP-1-1/blob/main/Classes_and_Objects.ipynb\" target=\"_parent\"><img src=\"https://colab.research.google.com/assets/colab-badge.svg\" alt=\"Open In Colab\"/></a>"
      ]
    },
    {
      "cell_type": "markdown",
      "source": [
        "##Application 2 - Write a python program that displays the full name of a studen, student number, age, course, school. Create a class name 'OOP_1_1' and Info() method to display the information of a student with fullname, student_no, age, course, school as attributes"
      ],
      "metadata": {
        "id": "4b8o8axv1n_w"
      }
    },
    {
      "cell_type": "code",
      "source": [
        "class OOP_1_1:\n",
        "  def __init__(self,fullname,student_no,age,course,school):\n",
        "   self.fullname = fullname\n",
        "   self.student_no = student_no\n",
        "   self.age = age\n",
        "   self.course = course\n",
        "   self.school = school\n",
        "\n",
        "  def Info(self):\n",
        "   print(self.fullname,self.student_no,self.age,self.course,self.school)\n",
        " \n",
        "student = OOP_1_1(\"Wearl Ian Baguio\",202101723,18,\"BSCpE\",\"CvSU-Main\")\n",
        "student.Info()\n"
      ],
      "metadata": {
        "colab": {
          "base_uri": "https://localhost:8080/"
        },
        "id": "U3C_10Vo2bJw",
        "outputId": "12ea368c-637a-4b7a-f902-af437bfc326e"
      },
      "execution_count": 7,
      "outputs": [
        {
          "output_type": "stream",
          "name": "stdout",
          "text": [
            "Wearl Ian Baguio 202101723 18 BSCpE CvSU-Main\n"
          ]
        }
      ]
    },
    {
      "cell_type": "code",
      "source": [
        "class OOP_1_1:\n",
        "  def __init__(self,fullname,student_no,age,course,school):\n",
        "   self.fullname = fullname\n",
        "   self.student_no = student_no\n",
        "   self.age = age\n",
        "   self.course = course\n",
        "   self.school = school\n",
        "\n",
        "  def Info(self):\n",
        "   #print(self.fullname,self.student_no,self.age,self.course,self.school)\n",
        "   print(\"My Name is\", self.fullname)\n",
        "   print(\"My Student Number is\", self.student_no)\n",
        "   print(\"My Age is\", self.age)\n",
        "   print(\"My Course is\", self.course)\n",
        "   print(\"My School is\", self.school)\n",
        " \n",
        "student = OOP_1_1(\"Wearl Ian Baguio\",202101723,18,\"BSCpE\",\"CvSU-Main\")\n",
        "student.Info()"
      ],
      "metadata": {
        "colab": {
          "base_uri": "https://localhost:8080/"
        },
        "id": "1erB9yaU4tYz",
        "outputId": "5842d6a9-8e5e-4a36-ceb0-ed9be685af61"
      },
      "execution_count": null,
      "outputs": [
        {
          "output_type": "stream",
          "name": "stdout",
          "text": [
            "My Name is Wearl Ian Baguio\n",
            "My Student Number is 202101723\n",
            "My Age is 18\n",
            "My Course is BSCpE\n",
            "My School is CvSU-Main\n"
          ]
        }
      ]
    },
    {
      "cell_type": "code",
      "source": [
        "class OOP_1_1:\n",
        "  def __init__(self,fullname,student_no,age,course,school):\n",
        "   self.fullname = fullname\n",
        "   self.student_no = student_no\n",
        "   self.age = age\n",
        "   self.course = course\n",
        "   self.school = school\n",
        "\n",
        "  def Info(self):\n",
        "   print(\"My Name is\"+\" \"+ self.fullname,self.student_no,self.age,self.school)\n",
        "   #print(\"My Name is\", self.fullname)\n",
        "   #print(\"My Student Number is\", self.student_no)\n",
        "   #print(\"My Age is\", self.age)\n",
        "   #print(\"My Course is\", self.course)\n",
        "   #print(\"My School is\", self.school)\n",
        " \n",
        "student = OOP_1_1(\"Wearl Ian Baguio\",202101723,18,\"BSCpE\",\"CvSU-Main\")\n",
        "student.Info()"
      ],
      "metadata": {
        "colab": {
          "base_uri": "https://localhost:8080/"
        },
        "id": "KXkolSs12r9_",
        "outputId": "4e3e1d11-6f65-4c22-fd4e-4030143f3882"
      },
      "execution_count": 8,
      "outputs": [
        {
          "output_type": "stream",
          "name": "stdout",
          "text": [
            "My Name is Wearl Ian Baguio 202101723 18 CvSU-Main\n"
          ]
        }
      ]
    },
    {
      "cell_type": "markdown",
      "source": [
        "##Application 3-Define an Area() method of the class Circle that calculates the circle's area. Define a Perimeter() method of the class which allows you to calculate the perimeter of the circle."
      ],
      "metadata": {
        "id": "IF35xcB-7QL8"
      }
    },
    {
      "cell_type": "code",
      "source": [
        "class Circle:\n",
        "  def __init__(self,pi,r):      #\"pi\" is \"π\", a special character which is not readable by phython   \n",
        "    self.pi = pi\n",
        "    self.r = r\n",
        "  \n",
        "  def Area(self):\n",
        "    print(self.pi * self.r ** 2)   #The formulafor the area is πr^2.\n",
        "\n",
        "circ = Circle(3.14,45)      #we all know that pi/π is an infinite decimal, thus I put 3.14 as the approximate value for it.\n",
        "circ.Area()"
      ],
      "metadata": {
        "id": "7dLKCzxs_Bnv",
        "colab": {
          "base_uri": "https://localhost:8080/"
        },
        "outputId": "67ef2605-d1ff-4afc-cc7d-b536941b31da"
      },
      "execution_count": 5,
      "outputs": [
        {
          "output_type": "stream",
          "name": "stdout",
          "text": [
            "6358.5\n"
          ]
        }
      ]
    },
    {
      "cell_type": "code",
      "source": [
        "class Circle:\n",
        "  def __init__(self,pi,d):     #\"pi\" is \"π\", a special character which is not readable by phython while \"d\" is diameter.\n",
        "    self.pi = pi\n",
        "    self.d = d\n",
        "\n",
        "  def Perimeter(self):\n",
        "    print(self.pi * self.d)\n",
        "  \n",
        "circ = Circle(3.14,18)     #we all know that pi/π is an infinite decimal, thus I put 3.14 as the approximate value for it.    \n",
        "circ.Perimeter()"
      ],
      "metadata": {
        "colab": {
          "base_uri": "https://localhost:8080/"
        },
        "id": "QL0Qr8xv7eNM",
        "outputId": "651a37b3-d263-4f93-df6a-b994f840d6b1"
      },
      "execution_count": 4,
      "outputs": [
        {
          "output_type": "stream",
          "name": "stdout",
          "text": [
            "56.52\n"
          ]
        }
      ]
    },
    {
      "cell_type": "markdown",
      "source": [
        "Another way of finding the Circle's perimeter"
      ],
      "metadata": {
        "id": "6p2UpxpT0ytS"
      }
    },
    {
      "cell_type": "code",
      "source": [
        "class Circle:\n",
        "  def __init__(self,pi,r):     #\"pi\" is \"π\", a special character which is not readable by phython.\n",
        "    self.pi = pi\n",
        "    self.r = r\n",
        "\n",
        "  def Perimeter(self):\n",
        "    print(self.pi * self.r * 2)     #\"d\" or diameter is originally radius multiply to radius or \"2r\".\n",
        "  \n",
        "circ = Circle(3.14,9)     #we all know that pi/π is an infinite decimal, thus I put 3.14 as the approximate value for it.    \n",
        "circ.Perimeter()"
      ],
      "metadata": {
        "colab": {
          "base_uri": "https://localhost:8080/"
        },
        "id": "VqDUHAYs0xHy",
        "outputId": "c77f508f-f4f2-478f-8684-d977c76d421a"
      },
      "execution_count": 6,
      "outputs": [
        {
          "output_type": "stream",
          "name": "stdout",
          "text": [
            "56.52\n"
          ]
        }
      ]
    }
  ]
}