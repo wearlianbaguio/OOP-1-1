{
  "nbformat": 4,
  "nbformat_minor": 0,
  "metadata": {
    "colab": {
      "name": "Phthon Classes and Objects.ipynb",
      "provenance": [],
      "authorship_tag": "ABX9TyOkAbZRmGTVsPWeol3k0w5n",
      "include_colab_link": true
    },
    "kernelspec": {
      "name": "python3",
      "display_name": "Python 3"
    },
    "language_info": {
      "name": "python"
    }
  },
  "cells": [
    {
      "cell_type": "markdown",
      "metadata": {
        "id": "view-in-github",
        "colab_type": "text"
      },
      "source": [
        "<a href=\"https://colab.research.google.com/github/wearlianbaguio/OOP-1-1/blob/main/Phthon_Classes_and_Objects.ipynb\" target=\"_parent\"><img src=\"https://colab.research.google.com/assets/colab-badge.svg\" alt=\"Open In Colab\"/></a>"
      ]
    },
    {
      "cell_type": "markdown",
      "source": [
        "#Class"
      ],
      "metadata": {
        "id": "QSwCcH6Cyydb"
      }
    },
    {
      "cell_type": "code",
      "source": [
        "class MyClass:     #name of class\n"
      ],
      "metadata": {
        "id": "I2r-fFf5y7GD"
      },
      "execution_count": null,
      "outputs": []
    },
    {
      "cell_type": "code",
      "source": [
        "class MyClass:\n",
        "  pass        #create a class without variable and methods\n"
      ],
      "metadata": {
        "id": "ryu5zNoJz8p3"
      },
      "execution_count": 38,
      "outputs": []
    },
    {
      "cell_type": "code",
      "source": [
        "class MyClass:\n",
        "  def __init__(self,name,age): \n",
        "    self.name = name              #create a class with attriutes\n",
        "    self.age = age\n",
        "    \n",
        "  def displaY(self):\n",
        "    print(self.name, self.age)\n",
        "  \n",
        "person = MyClass(\"Wearl Ian\",18)   #create an object name\n",
        "\n",
        "print(person.name)"
      ],
      "metadata": {
        "colab": {
          "base_uri": "https://localhost:8080/"
        },
        "id": "mZ19PGkizszQ",
        "outputId": "bd2e7482-b1ed-4dcc-9de2-a55092797f0c"
      },
      "execution_count": 39,
      "outputs": [
        {
          "output_type": "stream",
          "name": "stdout",
          "text": [
            "Wearl Ian\n"
          ]
        }
      ]
    },
    {
      "cell_type": "code",
      "source": [
        "class MyClass:\n",
        "  def __init__(self,name,age): \n",
        "      self.name = name              #create a class with attriutes\n",
        "      self.age = age\n",
        "    \n",
        "  def display(self):\n",
        "    print(self.name, self.age)\n",
        "  \n",
        "person = MyClass(\"Wearl Ian G. Baguio\",18)   #create an object name\n",
        "\n",
        "person.display()\n"
      ],
      "metadata": {
        "colab": {
          "base_uri": "https://localhost:8080/"
        },
        "id": "GCSGPnKZ7X4E",
        "outputId": "ea4f53bd-1dc8-49dc-a20b-f40a0e162161"
      },
      "execution_count": 42,
      "outputs": [
        {
          "output_type": "stream",
          "name": "stdout",
          "text": [
            "Wearl Ian G. Baguio 18\n"
          ]
        }
      ]
    },
    {
      "cell_type": "code",
      "source": [
        "#Application 1 - Write a Python program that computes for an area of a rectangle: A = lxw\n",
        "\n",
        "class Rectangle:\n",
        "  def __init__(self,l,w):\n",
        "    self.l=l          #attribute names\n",
        "    self.w=w\n",
        "\n",
        "  def Area(self):\n",
        "    print(self.l * self.w)\n",
        "\n",
        "rect = Rectangle(7,3)\n",
        "rect.Area()\n"
      ],
      "metadata": {
        "colab": {
          "base_uri": "https://localhost:8080/"
        },
        "id": "cwHcLwek29Lp",
        "outputId": "5f6689d2-6909-43ea-97c5-a3056d71ab08"
      },
      "execution_count": 50,
      "outputs": [
        {
          "output_type": "stream",
          "name": "stdout",
          "text": [
            "21\n"
          ]
        }
      ]
    }
  ]
}