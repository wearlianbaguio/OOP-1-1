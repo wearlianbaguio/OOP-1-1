{
  "nbformat": 4,
  "nbformat_minor": 0,
  "metadata": {
    "colab": {
      "name": "Midterm Exam.ipynb",
      "provenance": [],
      "authorship_tag": "ABX9TyMGyZNWcbuz0fqzYrJGuLCG",
      "include_colab_link": true
    },
    "kernelspec": {
      "name": "python3",
      "display_name": "Python 3"
    },
    "language_info": {
      "name": "python"
    }
  },
  "cells": [
    {
      "cell_type": "markdown",
      "metadata": {
        "id": "view-in-github",
        "colab_type": "text"
      },
      "source": [
        "<a href=\"https://colab.research.google.com/github/wearlianbaguio/OOP-1-1/blob/main/Midterm_Exam.ipynb\" target=\"_parent\"><img src=\"https://colab.research.google.com/assets/colab-badge.svg\" alt=\"Open In Colab\"/></a>"
      ]
    },
    {
      "cell_type": "markdown",
      "source": [
        "##Program 1"
      ],
      "metadata": {
        "id": "UwZu039bonKN"
      }
    },
    {
      "cell_type": "code",
      "source": [
        "class TemperatureConversion:\n",
        "  def __init__(self, temp=1):\n",
        "    self._temp = temp\n",
        "class CelsiusToFahrenheit(TemperatureConversion):\n",
        "  def conversion1(self):\n",
        "    return (self._temp * 9) / 5 + 32\n",
        "class CelsiusToKelvin(TemperatureConversion):\n",
        "  def conversion2(self):\n",
        "    return self._temp + 273.15\n",
        "class Summation(TemperatureConversion):\n",
        "  def summation(self):\n",
        "    return self._temp + 306.95  #approximate value  \n",
        "    \n",
        "tempInCelsius = float(input(\"Enter the temperature in Celsius \"))\n",
        "convert = CelsiusToFahrenheit(tempInCelsius)\n",
        "print(str(convert.conversion1()) + \" Fahrenheit\")\n",
        "convert = CelsiusToKelvin(tempInCelsius)\n",
        "print(str(convert.conversion2()) + \" Kelvin\")\n",
        "sum = Summation(tempInCelsius)\n",
        "print(str(sum.summation()) + \" The sum of Kelvin and Fahrenheit approximately\") #unaplicable in higher number values"
      ],
      "metadata": {
        "colab": {
          "base_uri": "https://localhost:8080/"
        },
        "id": "yuJsyo1lf_x2",
        "outputId": "9d948f8f-4116-4bf3-bb2e-5f421ff3b479"
      },
      "execution_count": 69,
      "outputs": [
        {
          "output_type": "stream",
          "name": "stdout",
          "text": [
            "Enter the temperature in Celsius 66\n",
            "150.8 Fahrenheit\n",
            "339.15 Kelvin\n",
            "372.95 The sum of Kelvin and Fahrenheit approximately\n"
          ]
        }
      ]
    },
    {
      "cell_type": "markdown",
      "source": [
        "##Program 2"
      ],
      "metadata": {
        "id": "bYjDhUJLoerk"
      }
    },
    {
      "cell_type": "code",
      "source": [
        ""
      ],
      "metadata": {
        "id": "dj6LR92SofFF"
      },
      "execution_count": 67,
      "outputs": []
    }
  ]
}