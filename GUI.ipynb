{
  "nbformat": 4,
  "nbformat_minor": 0,
  "metadata": {
    "colab": {
      "name": "GUI.ipynb",
      "provenance": [],
      "authorship_tag": "ABX9TyOzazHVxMj7VXGfVuGgNw4Q",
      "include_colab_link": true
    },
    "kernelspec": {
      "name": "python3",
      "display_name": "Python 3"
    },
    "language_info": {
      "name": "python"
    }
  },
  "cells": [
    {
      "cell_type": "markdown",
      "metadata": {
        "id": "view-in-github",
        "colab_type": "text"
      },
      "source": [
        "<a href=\"https://colab.research.google.com/github/wearlianbaguio/OOP-1-1/blob/main/GUI.ipynb\" target=\"_parent\"><img src=\"https://colab.research.google.com/assets/colab-badge.svg\" alt=\"Open In Colab\"/></a>"
      ]
    },
    {
      "cell_type": "markdown",
      "source": [
        "Student's Grade in OOP subject"
      ],
      "metadata": {
        "id": "hbR5OCboUf0J"
      }
    },
    {
      "cell_type": "code",
      "source": [
        "#@title Students' Grade in OOP\n",
        "student_name = 'Wearl Ian Baguio' #@param {type:\"string\"}\n",
        "prelim = 90 #@param{type:'number'}\n",
        "midterm = 85 #@param{type:'number'}\n",
        "final = 100 #@param{type:'number'}\n",
        "semestral_grade = (prelim+midterm+final)/3\n",
        "\n",
        "print(round(semestral_grade),2)"
      ],
      "metadata": {
        "colab": {
          "base_uri": "https://localhost:8080/"
        },
        "id": "94I9dGA5UlrQ",
        "outputId": "3005a288-3973-463f-ca3c-e31663754b31"
      },
      "execution_count": 5,
      "outputs": [
        {
          "output_type": "stream",
          "name": "stdout",
          "text": [
            "92 2\n"
          ]
        }
      ]
    },
    {
      "cell_type": "code",
      "source": [
        "#@title Students' Grade in OOP\n",
        "student_name = 'Wearl Ian Baguio' #@param {type:\"string\"}\n",
        "prelim = 90 #@param{type:'number'}\n",
        "midterm = 85 #@param{type:'number'}\n",
        "final = 100 #@param{type:'number'}\n",
        "semestral_grade = (prelim+midterm+final)/3\n",
        "\n",
        "print(\"My prelim grade is\" + str(prelim))\n",
        "print(\"My midterm grade is\" + str(midterm))\n",
        "print(\"My final grade is\" + str(final))\n",
        "print(round(semestral_grade),2)"
      ],
      "metadata": {
        "colab": {
          "base_uri": "https://localhost:8080/"
        },
        "id": "3TfUqkb9WyyP",
        "outputId": "ca37b93a-2a60-4816-b6f1-aac2fad553e3"
      },
      "execution_count": 8,
      "outputs": [
        {
          "output_type": "stream",
          "name": "stdout",
          "text": [
            "My prelim grade is90\n",
            "My midterm grade is85\n",
            "My final grade is100\n",
            "92 2\n"
          ]
        }
      ]
    },
    {
      "cell_type": "code",
      "source": [
        "#@title Students' Grade in OOP\n",
        "student_name = 'Wearl Ian Baguio' #@param {type:\"string\"}\n",
        "prelim = 90 #@param{type:'number'}\n",
        "midterm = 85 #@param{type:'number'}\n",
        "final = 100 #@param{type:'number'}\n",
        "semestral_grade = round((prelim+midterm+final)/3,2)\n",
        "\n",
        "print(\"My prelim grade is\" + str(prelim))\n",
        "print(\"My midterm grade is\" + str(midterm))\n",
        "print(\"My final grade is\" + str(final))\n",
        "print(round(semestral_grade),2)\n",
        "print(\"My semestral grade is:\" + str(semestral_grade))"
      ],
      "metadata": {
        "colab": {
          "base_uri": "https://localhost:8080/"
        },
        "id": "1GvLQSF4W-tT",
        "outputId": "b6e5e658-0033-467c-d1cb-5d45445f4135"
      },
      "execution_count": 11,
      "outputs": [
        {
          "output_type": "stream",
          "name": "stdout",
          "text": [
            "My prelim grade is90\n",
            "My midterm grade is85\n",
            "My final grade is100\n",
            "92 2\n",
            "My semestral grade is:91.67\n"
          ]
        }
      ]
    },
    {
      "cell_type": "code",
      "source": [
        "#@title Students' Grade in OOP\n",
        "student_name = 'Wearl Ian Baguio' #@param {type:\"string\"}\n",
        "prelim = 90 #@param{type:'number'}\n",
        "midterm = 85 #@param{type:'number'}\n",
        "final = 100 #@param{type:'number'}\n",
        "semestral_grade = round((prelim+midterm+final)/3,2)\n",
        "\n",
        "print(\"My prelim grade is\" + str(prelim))\n",
        "print(\"My midterm grade is\" + str(midterm))\n",
        "print(\"My final grade is\" + str(final))\n",
        "print(round(semestral_grade),2)\n",
        "print(\"My semestral grade is:\" + str(semestral_grade))\n",
        "\n",
        "\n",
        "Gender = \"Male\"#@param [\"Male\",\"Female\"]"
      ],
      "metadata": {
        "id": "oAEYEU3PXyeY"
      },
      "execution_count": null,
      "outputs": []
    },
    {
      "cell_type": "code",
      "source": [
        "#@title Students' Grade in OOP\n",
        "student_name = 'Wearl Ian Baguio' #@param {type:\"string\"}\n",
        "prelim = 90 #@param{type:'number'}\n",
        "midterm = 85 #@param{type:'number'}\n",
        "final = 100 #@param{type:'number'}\n",
        "semestral_grade = round((prelim+midterm+final)/3,2)\n",
        "\n",
        "print(\"My prelim grade is\" + str(prelim))\n",
        "print(\"My midterm grade is\" + str(midterm))\n",
        "print(\"My final grade is\" + str(final))\n",
        "print(round(semestral_grade),2)\n",
        "print(\"My semestral grade is:\" + str(semestral_grade))\n",
        "\n",
        "\n",
        "Gender = \"Male\"#@param [\"Male\",\"Female\"]\n",
        "BirthDate = '2022-04-04' #@param {type:\"date\"}\n",
        "\n",
        "print(\"My birthday is:\" + BirthDate)"
      ],
      "metadata": {
        "colab": {
          "base_uri": "https://localhost:8080/"
        },
        "id": "O2qPlcSxYHVb",
        "outputId": "90c5467f-2613-4bd4-e185-bc9b798762a0"
      },
      "execution_count": 12,
      "outputs": [
        {
          "output_type": "stream",
          "name": "stdout",
          "text": [
            "My prelim grade is90\n",
            "My midterm grade is85\n",
            "My final grade is100\n",
            "92 2\n",
            "My semestral grade is:91.67\n",
            "My birthday is:2022-04-04\n"
          ]
        }
      ]
    },
    {
      "cell_type": "markdown",
      "source": [
        "Tkinter module - pycharm"
      ],
      "metadata": {
        "id": "XT9A7ggAYyc5"
      }
    }
  ]
}