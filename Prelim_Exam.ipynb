{
  "nbformat": 4,
  "nbformat_minor": 0,
  "metadata": {
    "colab": {
      "name": "Prelim Exam.ipynb",
      "provenance": [],
      "authorship_tag": "ABX9TyM4yWwj+p26I23dQ1f2EQr/",
      "include_colab_link": true
    },
    "kernelspec": {
      "name": "python3",
      "display_name": "Python 3"
    },
    "language_info": {
      "name": "python"
    }
  },
  "cells": [
    {
      "cell_type": "markdown",
      "metadata": {
        "id": "view-in-github",
        "colab_type": "text"
      },
      "source": [
        "<a href=\"https://colab.research.google.com/github/wearlianbaguio/OOP-1-1/blob/main/Prelim_Exam.ipynb\" target=\"_parent\"><img src=\"https://colab.research.google.com/assets/colab-badge.svg\" alt=\"Open In Colab\"/></a>"
      ]
    },
    {
      "cell_type": "code",
      "source": [
        "class Student:\n",
        "  def __init__(self,Name,Student_No,Age,School,Course):\n",
        "    self.Name = Name\n",
        "    self.Student_No = Student_No\n",
        "    self.Age = Age\n",
        "    self.School = School\n",
        "    self.Course = Course\n",
        "\n",
        "  def Myself(self):\n",
        "    print(self.Name,self.Student_No,self.Age,self.School,self.Course) \n",
        "\n",
        "student = Student(\"Wearl Ian G. Baguio\",202101723,18,\"CvSU-Indang\",\"BSCpE\")\n",
        "student.Myself()"
      ],
      "metadata": {
        "colab": {
          "base_uri": "https://localhost:8080/"
        },
        "id": "sn_YzZnqU0_2",
        "outputId": "1c1c1369-905f-4028-cc95-4d98f377661b"
      },
      "execution_count": 48,
      "outputs": [
        {
          "output_type": "stream",
          "name": "stdout",
          "text": [
            "Wearl Ian G. Baguio 202101723 18 CvSU-Indang BSCpE\n"
          ]
        }
      ]
    }
  ]
}